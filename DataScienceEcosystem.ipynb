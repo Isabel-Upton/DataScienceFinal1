{
 "cells": [
  {
   "cell_type": "markdown",
   "id": "eb7abf42",
   "metadata": {},
   "source": [
    "# Data Science Tools and Ecosystem\n"
   ]
  },
  {
   "cell_type": "markdown",
   "id": "8c8f0e23",
   "metadata": {},
   "source": [
    "In this notebook, Data Science Tools and Ecosystem are summarized."
   ]
  },
  {
   "cell_type": "markdown",
   "id": "4d3d5aac",
   "metadata": {},
   "source": [
    "**Objectives:**\n",
    "- List of popular languages for Data Science\n",
    "- List of popular libraries and tools used in Data Science\n",
    "- Simple arthimetic expression in Python"
   ]
  },
  {
   "cell_type": "markdown",
   "id": "351b8559",
   "metadata": {},
   "source": [
    "Some of the popular languages that Data Scientists use are:\n",
    "1. Python\n",
    "2. R\n",
    "3. Julia\n"
   ]
  },
  {
   "cell_type": "markdown",
   "id": "b4ff90b8",
   "metadata": {},
   "source": [
    "Some of the commonly used libraries used by Data Scientists include:\n",
    "1. ggplot\n",
    "2. Matplotlib\n",
    "3. scikit-learn"
   ]
  },
  {
   "cell_type": "markdown",
   "id": "5ef0c102",
   "metadata": {},
   "source": [
    "| Data Science Tools |\n",
    "------------------------------------\n",
    "| Jupyter Notebook |\n",
    "| VSCode |\n",
    "| RStudio |"
   ]
  },
  {
   "cell_type": "markdown",
   "id": "516d4b24",
   "metadata": {},
   "source": [
    "### Below are examples of evaluating arithmetic expression in Python"
   ]
  },
  {
   "cell_type": "code",
   "execution_count": 2,
   "id": "29d00e67",
   "metadata": {},
   "outputs": [
    {
     "data": {
      "text/plain": [
       "17"
      ]
     },
     "execution_count": 2,
     "metadata": {},
     "output_type": "execute_result"
    }
   ],
   "source": [
    "#This is a simple arithmetic expression to multiply then add integers.\n",
    "(3*4)+5"
   ]
  },
  {
   "cell_type": "code",
   "execution_count": 3,
   "id": "969d094f",
   "metadata": {},
   "outputs": [
    {
     "data": {
      "text/plain": [
       "3.3333333333333335"
      ]
     },
     "execution_count": 3,
     "metadata": {},
     "output_type": "execute_result"
    }
   ],
   "source": [
    "#This will convert 200 minutes to hours by dividing by 60\n",
    "200/60"
   ]
  },
  {
   "cell_type": "markdown",
   "id": "16aa292e",
   "metadata": {},
   "source": [
    "## Author\n",
    "Isabel"
   ]
  },
  {
   "cell_type": "code",
   "execution_count": null,
   "id": "8296b853",
   "metadata": {},
   "outputs": [],
   "source": []
  }
 ],
 "metadata": {
  "kernelspec": {
   "display_name": "Python 3 (ipykernel)",
   "language": "python",
   "name": "python3"
  },
  "language_info": {
   "codemirror_mode": {
    "name": "ipython",
    "version": 3
   },
   "file_extension": ".py",
   "mimetype": "text/x-python",
   "name": "python",
   "nbconvert_exporter": "python",
   "pygments_lexer": "ipython3",
   "version": "3.11.4"
  }
 },
 "nbformat": 4,
 "nbformat_minor": 5
}
